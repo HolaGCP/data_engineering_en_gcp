{
 "cells": [
  {
   "cell_type": "markdown",
   "id": "547ba01b-5f28-4bca-b6ac-aba081618e9a",
   "metadata": {},
   "source": [
    "# Biblioteca cliente de Cloud Storage \n",
    "\n",
    "En este instructivo, se muestra cómo comenzar con [la librería de cliente de Python de Cloud Storage](https://googleapis.github.io/google-cloud-python/latest/storage/index.html)."
   ]
  },
  {
   "cell_type": "markdown",
   "id": "1df0633b-38d9-44c1-833f-6f35dc4c8197",
   "metadata": {},
   "source": [
    "## Crear un \"bucket\" de almacenamiento \n",
    "\n",
    "Los buckets son los contenedores básicos que contienen sus datos. Todo lo que almacene en Cloud Storage debe estar contenido en un bucket. Puede usar buckets para organizar sus datos y controlar el acceso a sus datos.\n",
    "\n",
    "Comience importando la biblioteca:"
   ]
  },
  {
   "cell_type": "code",
   "execution_count": 21,
   "id": "616ffcdd-b78b-435c-b858-a33c6f5bce47",
   "metadata": {},
   "outputs": [],
   "source": [
    "from google.cloud import storage"
   ]
  },
  {
   "cell_type": "markdown",
   "id": "f3783be4-01f8-4c86-a789-70cce0bf7ddd",
   "metadata": {},
   "source": [
    "El objeto `storage.Client()` utiliza su proyecto predeterminado. Alternativamente, puede especificar un proyecto en el `Client` constructor. Para obtener más información sobre cómo se determina el proyecto predeterminado, consulte la [documentación de google-auth](https://google-auth.readthedocs.io/en/latest/reference/google.auth.html).\n",
    "\n",
    "Ejecute lo siguiente para crear un cliente con su proyecto predeterminado:"
   ]
  },
  {
   "cell_type": "code",
   "execution_count": 8,
   "id": "013a8650-f8bc-4728-a0f3-4a9053089210",
   "metadata": {},
   "outputs": [
    {
     "name": "stdout",
     "output_type": "stream",
     "text": [
      "Client created using default project: nth-victory-357100\n"
     ]
    }
   ],
   "source": [
    "client = storage.Client()\n",
    "print(\"Client created using default project: {}\".format(client.project))"
   ]
  },
  {
   "cell_type": "markdown",
   "id": "8c7d8405-de36-41c0-bb96-67546c571f56",
   "metadata": {},
   "source": [
    "Para especificar explícitamente un proyecto al construir el cliente, establezca el `project` parámetro:"
   ]
  },
  {
   "cell_type": "code",
   "execution_count": 9,
   "id": "6e24d2ad-0384-41ef-96cc-c876f67eab25",
   "metadata": {},
   "outputs": [],
   "source": [
    "# client = storage.Client(project='your-project-id')"
   ]
  },
  {
   "cell_type": "markdown",
   "id": "65b3c5ed-34fc-4a74-abb6-01ea40e147ab",
   "metadata": {},
   "source": [
    "Finalmente, cree un bucket con un nombre único a nivel mundial.\n",
    "\n",
    "Para obtener más información sobre cómo nombrar buckets, consulte [requisitos de nombre de un bucket](https://cloud.google.com/storage/docs/naming#requirements)."
   ]
  },
  {
   "cell_type": "code",
   "execution_count": 11,
   "id": "0ec8f64b-ffa8-4890-a40c-cc41a8335ee0",
   "metadata": {},
   "outputs": [
    {
     "name": "stdout",
     "output_type": "stream",
     "text": [
      "Bucket workspace-arnold-huete-2022 created.\n"
     ]
    }
   ],
   "source": [
    "# Replace the string below with a unique name for the new bucket\n",
    "bucket_name = \"workspace-arnold-huete-2022\"\n",
    "\n",
    "# Creates the new bucket\n",
    "bucket = client.create_bucket(bucket_name)\n",
    "\n",
    "print(\"Bucket {} created.\".format(bucket.name))"
   ]
  },
  {
   "cell_type": "markdown",
   "id": "2c78ba9b-a849-4cf6-ac2a-31eea171456b",
   "metadata": {},
   "source": [
    "# Listar bucekts en un proyecto "
   ]
  },
  {
   "cell_type": "code",
   "execution_count": 12,
   "id": "85e2e12d-8853-42c8-b7d7-723fef6d63cb",
   "metadata": {},
   "outputs": [
    {
     "name": "stdout",
     "output_type": "stream",
     "text": [
      "Buckets in nth-victory-357100:\n",
      "\tdataprep-staging-f6c5a8b6-0765-476e-a414-b54712189853\n",
      "\tgcf-v2-sources-363950197071-us-east1\n",
      "\tgcf-v2-uploads-363950197071-us-east1\n",
      "\thevo_bucket_nth-victory-357100_zxkp\n",
      "\trimac-arnold-huete\n",
      "\trimac-arnold-huete-2\n",
      "\tworkspace-arnold-huete\n",
      "\tworkspace-arnold-huete-2022\n"
     ]
    }
   ],
   "source": [
    "buckets = client.list_buckets()\n",
    "\n",
    "print(\"Buckets in {}:\".format(client.project))\n",
    "for item in buckets:\n",
    "    print(\"\\t\" + item.name)"
   ]
  },
  {
   "cell_type": "markdown",
   "id": "e72de6a1-f119-4d9c-9bb6-2915191f64b8",
   "metadata": {},
   "source": [
    "## Obtener metadatos del bucket \n",
    "\n",
    "La siguiente celda muestra cómo obtener información sobre los metadatos de sus buckets de Cloud Storage.\n",
    "\n",
    "Para obtener más información sobre las propiedades específicas de los buckets, consulte [Ubicaciones de Buckets](https://cloud.google.com/storage/docs/locations) and [Clases de Almacenamiento](https://cloud.google.com/storage/docs/storage-classes)."
   ]
  },
  {
   "cell_type": "code",
   "execution_count": 13,
   "id": "f01a1ea1-5e49-4c95-91a2-406507407c2d",
   "metadata": {},
   "outputs": [
    {
     "name": "stdout",
     "output_type": "stream",
     "text": [
      "Bucket name: workspace-arnold-huete-2022\n",
      "Bucket location: US\n",
      "Bucket storage class: STANDARD\n"
     ]
    }
   ],
   "source": [
    "bucket = client.get_bucket(bucket_name)\n",
    "\n",
    "print(\"Bucket name: {}\".format(bucket.name))\n",
    "print(\"Bucket location: {}\".format(bucket.location))\n",
    "print(\"Bucket storage class: {}\".format(bucket.storage_class))"
   ]
  },
  {
   "cell_type": "markdown",
   "id": "6fff35a5-a8f6-43f6-bfe7-f1402252ccd8",
   "metadata": {},
   "source": [
    "## Subir un archivo local a un bucket\n",
    "\n",
    "Los objetos son los datos individuales que almacena en Cloud Storage. Los objetos se denominan \"blobs\" en la biblioteca cliente de Python. No hay límite en la cantidad de objetos que puede crear en un depósito.\n",
    "\n",
    "El nombre de un objeto se trata como una parte de los metadatos del objeto en Cloud Storage. Los nombres de objetos pueden contener cualquier combinación de caracteres Unicode (codificados en UTF-8) y deben tener menos de 1024 bytes de longitud.\n",
    "\n",
    "Para obtener más información, incluido cómo cambiar el nombre de un objeto, consulte [los requisitos de nombre de objetos](https://cloud.google.com/storage/docs/naming#objectnames)."
   ]
  },
  {
   "cell_type": "code",
   "execution_count": null,
   "id": "b632efaa-ecca-4ee8-9477-5e56105080e8",
   "metadata": {},
   "outputs": [],
   "source": [
    "blob_name = \"us-states.txt\"\n",
    "blob = bucket.blob(blob_name)\n",
    "\n",
    "source_file_name = \"resources/us-states.txt\"\n",
    "blob.upload_from_filename(source_file_name)\n",
    "\n",
    "print(\"File uploaded to {}.\".format(bucket.name))"
   ]
  },
  {
   "cell_type": "markdown",
   "id": "e337865f-2fa7-4218-b115-59e2ec98acee",
   "metadata": {},
   "source": [
    "## Listar blobs en un bucket "
   ]
  },
  {
   "cell_type": "code",
   "execution_count": null,
   "id": "693250a3-8a4e-41b3-8d92-7cd4ae661aa7",
   "metadata": {},
   "outputs": [],
   "source": [
    "blobs = bucket.list_blobs()\n",
    "\n",
    "print(\"Blobs in {}:\".format(bucket.name))\n",
    "for item in blobs:\n",
    "    print(\"\\t\" + item.name)"
   ]
  },
  {
   "cell_type": "markdown",
   "id": "312025cb-89ea-4c42-92e2-8c122b96809e",
   "metadata": {},
   "source": [
    "## Obtener un blob y mostrar metadatos \n",
    "\n",
    "Consulte la [documentación](https://cloud.google.com/storage/docs/viewing-editing-metadata) para obtener más información sobre los metadatos de los blobs."
   ]
  },
  {
   "cell_type": "code",
   "execution_count": 22,
   "id": "917b1ddc-00df-402c-bf78-d91ebc8a3b4b",
   "metadata": {},
   "outputs": [
    {
     "name": "stdout",
     "output_type": "stream",
     "text": [
      "Name: workspace-arnold-huete-2022/us-states.txt/1665009447294114\n",
      "Size: 637 bytes\n",
      "Content type: text/plain\n",
      "Public URL: https://storage.googleapis.com/workspace-arnold-huete-2022/us-states.txt\n"
     ]
    }
   ],
   "source": [
    "blob = bucket.get_blob(blob_name)\n",
    "\n",
    "print(\"Name: {}\".format(blob.id))\n",
    "print(\"Size: {} bytes\".format(blob.size))\n",
    "print(\"Content type: {}\".format(blob.content_type))\n",
    "print(\"Public URL: {}\".format(blob.public_url))"
   ]
  },
  {
   "cell_type": "markdown",
   "id": "2442a690-2d34-411b-990d-e0a6fa5418ef",
   "metadata": {},
   "source": [
    "## Descargar un blob a un directorio local"
   ]
  },
  {
   "cell_type": "code",
   "execution_count": 25,
   "id": "541f3c54-56ad-4d25-ba9c-71ab5c5de39e",
   "metadata": {},
   "outputs": [
    {
     "name": "stdout",
     "output_type": "stream",
     "text": [
      "blob us-states.txt descargado a descarga-us-states.txt.\n"
     ]
    }
   ],
   "source": [
    "output_file_name = \"descarga-us-states.txt\"\n",
    "blob.download_to_filename(output_file_name)\n",
    "\n",
    "print(\"blob {} descargado a {}.\".format(blob.name, output_file_name))"
   ]
  },
  {
   "cell_type": "markdown",
   "id": "a186b08d-93dd-4e55-8f47-908f37af5f2d",
   "metadata": {},
   "source": [
    "## Limpiando \n",
    "### Eliminar un blob "
   ]
  },
  {
   "cell_type": "code",
   "execution_count": null,
   "id": "52a136ed-00d3-4721-b5ad-77f809dfbe49",
   "metadata": {},
   "outputs": [],
   "source": [
    "blob = client.get_bucket(bucket_name).get_blob(blob_name)\n",
    "blob.delete()\n",
    "\n",
    "print(\"Blob {} deleted.\".format(blob.name))"
   ]
  },
  {
   "cell_type": "markdown",
   "id": "ae23da30-b21f-4764-9bf9-32e250210951",
   "metadata": {},
   "source": [
    "### Eliminar un bucket \n",
    "\n",
    "Tenga en cuenta que el bucket debe estar vacío antes de poder eliminarlo."
   ]
  },
  {
   "cell_type": "code",
   "execution_count": null,
   "id": "315089f5-ee30-4cde-a387-3a6d73f30307",
   "metadata": {},
   "outputs": [],
   "source": [
    "bucket = client.get_bucket(bucket_name)\n",
    "bucket.delete()\n",
    "\n",
    "print(\"Bucket {} deleted.\".format(bucket.name))"
   ]
  },
  {
   "cell_type": "markdown",
   "id": "4042edb2-28bf-43ef-913f-c4b252d4498c",
   "metadata": {},
   "source": [
    "## Next Steps\n",
    "\n",
    "Lea más sobre Cloud Storage en la documentación:\n",
    "\n",
    "+ [Términos clave de almacenamiento](https://cloud.google.com/storage/docs/key-terms)\n",
    "+ [Guías prácticas](https://cloud.google.com/storage/docs/how-to)\n",
    "+ [Pricing](https://cloud.google.com/storage/pricing)"
   ]
  },
  {
   "cell_type": "markdown",
   "id": "65d4dbf9-74f2-405f-bd66-cd4dc89e11a1",
   "metadata": {},
   "source": []
  }
 ],
 "metadata": {
  "kernelspec": {
   "display_name": "Python (Local)",
   "language": "python",
   "name": "local-base"
  },
  "language_info": {
   "codemirror_mode": {
    "name": "ipython",
    "version": 3
   },
   "file_extension": ".py",
   "mimetype": "text/x-python",
   "name": "python",
   "nbconvert_exporter": "python",
   "pygments_lexer": "ipython3",
   "version": "3.7.12"
  }
 },
 "nbformat": 4,
 "nbformat_minor": 5
}
